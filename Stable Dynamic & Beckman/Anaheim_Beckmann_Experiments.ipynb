{
 "cells": [
  {
   "cell_type": "code",
   "execution_count": null,
   "metadata": {
    "collapsed": true
   },
   "outputs": [],
   "source": [
    "## Data Initializing"
   ]
  },
  {
   "cell_type": "code",
   "execution_count": 1,
   "metadata": {},
   "outputs": [],
   "source": [
    "import pandas as pd\n",
    "import numpy as np\n",
    "import data_handler as dh\n",
    "import model as md\n",
    "import time\n",
    "import matplotlib.pyplot as plt\n",
    "from matplotlib import rc\n",
    "import pickle"
   ]
  },
  {
   "cell_type": "code",
   "execution_count": 2,
   "metadata": {},
   "outputs": [
    {
     "data": {
      "text/plain": [
       "<module 'model' from '/home/mkub/Meruza_ubuntu/GitHub/TransportNet/Stable Dynamic & Beckman/model.py'>"
      ]
     },
     "execution_count": 2,
     "metadata": {},
     "output_type": "execute_result"
    }
   ],
   "source": [
    "import importlib\n",
    "importlib.reload(dh)\n",
    "importlib.reload(md)"
   ]
  },
  {
   "cell_type": "code",
   "execution_count": 2,
   "metadata": {},
   "outputs": [
    {
     "data": {
      "text/plain": [
       "'0.51.0'"
      ]
     },
     "execution_count": 2,
     "metadata": {},
     "output_type": "execute_result"
    }
   ],
   "source": [
    "import numba\n",
    "numba.__version__"
   ]
  },
  {
   "cell_type": "code",
   "execution_count": 3,
   "metadata": {},
   "outputs": [
    {
     "name": "stdout",
     "output_type": "stream",
     "text": [
      "/home/mkub/anaconda3/bin/python\n",
      "3.7.6 (default, Jan  8 2020, 19:59:22) \n",
      "[GCC 7.3.0]\n",
      "sys.version_info(major=3, minor=7, micro=6, releaselevel='final', serial=0)\n",
      "python 3.7.6\n",
      "numpy 1.19.1\n",
      "pandas 1.1.0\n",
      "graph_tool 2.30 (commit dbbccdf7, Mon Mar 23 11:15:48 2020 +0000)\n"
     ]
    }
   ],
   "source": [
    "import sys\n",
    "print(sys.executable)\n",
    "print(sys.version)\n",
    "print(sys.version_info)\n",
    "from platform import python_version\n",
    "print('python', python_version())\n",
    "print('numpy', np.__version__)\n",
    "print('pandas', pd.__version__)\n",
    "import graph_tool\n",
    "print('graph_tool', graph_tool.__version__)"
   ]
  },
  {
   "cell_type": "markdown",
   "metadata": {},
   "source": [
    "# Beckmann model\n",
    "\n",
    "parameter $\\mu = 0.25$"
   ]
  },
  {
   "cell_type": "code",
   "execution_count": 5,
   "metadata": {},
   "outputs": [],
   "source": [
    "beckmann_save = 'beckmann_results/'\n",
    "cities_data = 'cities_data/'"
   ]
  },
  {
   "cell_type": "code",
   "execution_count": 6,
   "metadata": {},
   "outputs": [
    {
     "data": {
      "text/html": [
       "<div>\n",
       "<style scoped>\n",
       "    .dataframe tbody tr th:only-of-type {\n",
       "        vertical-align: middle;\n",
       "    }\n",
       "\n",
       "    .dataframe tbody tr th {\n",
       "        vertical-align: top;\n",
       "    }\n",
       "\n",
       "    .dataframe thead th {\n",
       "        text-align: right;\n",
       "    }\n",
       "</style>\n",
       "<table border=\"1\" class=\"dataframe\">\n",
       "  <thead>\n",
       "    <tr style=\"text-align: right;\">\n",
       "      <th></th>\n",
       "      <th>init_node</th>\n",
       "      <th>init_node_thru</th>\n",
       "      <th>term_node</th>\n",
       "      <th>term_node_thru</th>\n",
       "      <th>capacity</th>\n",
       "      <th>free_flow_time</th>\n",
       "    </tr>\n",
       "  </thead>\n",
       "  <tbody>\n",
       "    <tr>\n",
       "      <th>0</th>\n",
       "      <td>1</td>\n",
       "      <td>False</td>\n",
       "      <td>117</td>\n",
       "      <td>True</td>\n",
       "      <td>9000.0</td>\n",
       "      <td>1.090458</td>\n",
       "    </tr>\n",
       "    <tr>\n",
       "      <th>1</th>\n",
       "      <td>2</td>\n",
       "      <td>False</td>\n",
       "      <td>87</td>\n",
       "      <td>True</td>\n",
       "      <td>9000.0</td>\n",
       "      <td>1.090458</td>\n",
       "    </tr>\n",
       "    <tr>\n",
       "      <th>2</th>\n",
       "      <td>3</td>\n",
       "      <td>False</td>\n",
       "      <td>74</td>\n",
       "      <td>True</td>\n",
       "      <td>9000.0</td>\n",
       "      <td>1.090458</td>\n",
       "    </tr>\n",
       "    <tr>\n",
       "      <th>3</th>\n",
       "      <td>4</td>\n",
       "      <td>False</td>\n",
       "      <td>233</td>\n",
       "      <td>True</td>\n",
       "      <td>9000.0</td>\n",
       "      <td>1.090458</td>\n",
       "    </tr>\n",
       "    <tr>\n",
       "      <th>4</th>\n",
       "      <td>5</td>\n",
       "      <td>False</td>\n",
       "      <td>165</td>\n",
       "      <td>True</td>\n",
       "      <td>9000.0</td>\n",
       "      <td>1.090458</td>\n",
       "    </tr>\n",
       "  </tbody>\n",
       "</table>\n",
       "</div>"
      ],
      "text/plain": [
       "   init_node  init_node_thru  term_node  term_node_thru  capacity  \\\n",
       "0          1           False        117            True    9000.0   \n",
       "1          2           False         87            True    9000.0   \n",
       "2          3           False         74            True    9000.0   \n",
       "3          4           False        233            True    9000.0   \n",
       "4          5           False        165            True    9000.0   \n",
       "\n",
       "   free_flow_time  \n",
       "0        1.090458  \n",
       "1        1.090458  \n",
       "2        1.090458  \n",
       "3        1.090458  \n",
       "4        1.090458  "
      ]
     },
     "execution_count": 6,
     "metadata": {},
     "output_type": "execute_result"
    }
   ],
   "source": [
    "net_name = cities_data + 'Anaheim_net.tntp'\n",
    "trips_name = cities_data + 'Anaheim_trips.tntp'\n",
    "\n",
    "handler = dh.DataHandler()\n",
    "graph_data = handler.GetGraphData(net_name, columns = ['init_node', 'term_node', 'capacity', 'free_flow_time'])\n",
    "graph_correspondences, total_od_flow = handler.GetGraphCorrespondences(trips_name)\n",
    "\n",
    "model = md.Model(graph_data, graph_correspondences, \n",
    "                    total_od_flow, mu = 0.25, rho = 0.15)\n",
    "\n",
    "graph_data['graph_table'].head()"
   ]
  },
  {
   "cell_type": "markdown",
   "metadata": {},
   "source": [
    "## Frank-Wolfe method"
   ]
  },
  {
   "cell_type": "code",
   "execution_count": 4,
   "metadata": {
    "scrolled": true
   },
   "outputs": [
    {
     "name": "stdout",
     "output_type": "stream",
     "text": [
      "Frank-Wolfe without stopping criteria\n",
      "Oracles created...\n",
      "Frank-Wolfe algorithm...\n",
      "Primal_init = 1.29606e+06\n",
      "Dual_init = -1.24813e+06\n",
      "Duality_gap_init = 47933.4\n",
      "\n",
      "Iterations number: 2000\n",
      "Primal_func_value = 1.28603e+06\n",
      "Dual_func_value = -1.28603e+06\n",
      "Duality_gap = 0.588403\n",
      "Duality_gap / Duality_gap_init = 1.22754e-05\n",
      "\n",
      "Iterations number: 4000\n",
      "Primal_func_value = 1.28603e+06\n",
      "Dual_func_value = -1.28603e+06\n",
      "Duality_gap = 0.289695\n",
      "Duality_gap / Duality_gap_init = 6.0437e-06\n",
      "\n",
      "Iterations number: 6000\n",
      "Primal_func_value = 1.28603e+06\n",
      "Dual_func_value = -1.28603e+06\n",
      "Duality_gap = 0.192024\n",
      "Duality_gap / Duality_gap_init = 4.00605e-06\n",
      "\n",
      "Iterations number: 8000\n",
      "Primal_func_value = 1.28603e+06\n",
      "Dual_func_value = -1.28603e+06\n",
      "Duality_gap = 0.143654\n",
      "Duality_gap / Duality_gap_init = 2.99694e-06\n",
      "\n",
      "Iterations number: 10000\n",
      "Primal_func_value = 1.28603e+06\n",
      "Dual_func_value = -1.28603e+06\n",
      "Duality_gap = 0.114635\n",
      "Duality_gap / Duality_gap_init = 2.39155e-06\n",
      "Result: iterations number exceeded Total iters: 10000\n",
      "Primal_func_value = 1.28603e+06\n",
      "Dual_func_value = -1.28603e+06\n",
      "Duality_gap = 0.114635\n",
      "Duality_gap / Duality_gap_init = 2.39155e-06\n",
      "Oracle elapsed time: 1194 sec\n",
      "Elapsed time: 1201 sec\n",
      "Time ratio = 3.300313118747732\n",
      "Flow excess = 0.9788966357330946\n",
      "\n"
     ]
    }
   ],
   "source": [
    "#new prox oracle etc. t_weighted !!\n",
    "assert(model.mu == 0.25)\n",
    "max_iter = 10000\n",
    "\n",
    "print('Frank-Wolfe without stopping criteria')\n",
    "solver_kwargs = {'max_iter' : max_iter, 'stop_crit': 'max_iter',\n",
    "                 'verbose' : True, 'verbose_step': 2000, 'save_history' : True}\n",
    "tic = time.time()\n",
    "result = model.find_equilibrium(solver_name = 'fwm', solver_kwargs = solver_kwargs)\n",
    "toc = time.time()\n",
    "print('Elapsed time: {:.0f} sec'.format(toc - tic))\n",
    "print('Time ratio =', np.max(result['times'] / graph_data['graph_table']['free_flow_time']))\n",
    "print('Flow excess =', np.max(result['flows'] / graph_data['graph_table']['capacity']) - 1, end = '\\n\\n')"
   ]
  },
  {
   "cell_type": "code",
   "execution_count": 5,
   "metadata": {},
   "outputs": [],
   "source": [
    "#with open(beckmann_save + 'anaheim_result_' + 'fwm_t_weighted' + '_max_iter_' + str(max_iter) + '_beckmann.pickle', 'wb') as f:\n",
    "#    pickle.dump(result, f)"
   ]
  },
  {
   "cell_type": "code",
   "execution_count": 8,
   "metadata": {},
   "outputs": [],
   "source": [
    "with open(beckmann_save + 'anaheim_result_fwm_t_weighted_max_iter_10000_beckmann.pickle', 'rb') as f:\n",
    "    result = pickle.load(f)"
   ]
  },
  {
   "cell_type": "markdown",
   "metadata": {},
   "source": [
    "__Checking the result with the answer from https://github.com/bstabler/TransportationNetworks__ "
   ]
  },
  {
   "cell_type": "code",
   "execution_count": 16,
   "metadata": {},
   "outputs": [
    {
     "name": "stdout",
     "output_type": "stream",
     "text": [
      "Flows:\n",
      "total_od_flow = 104694.4\n",
      "min_i |f - f^*|[i] = 0.0\n",
      "max_i |f - f^*|[i] = 0.6930271191049542\n",
      "||f - f^*||_1 / ||f^*||_1 = 1.5773880137928968e-05\n",
      "||f - f^*||_2 / ||f^*||_2 = 3.110964791145533e-05\n",
      "Times:\n",
      "min_i |t - t^*|[i] = 0.0\n",
      "max_i |t - t^*|[i] = 5.241011209300428e-05\n",
      "||t - t^*||_1 = 0.0006019054672867438\n"
     ]
    }
   ],
   "source": [
    "answer = handler.ReadAnswer(cities_data + 'Anaheim_flow.tntp')\n",
    "delta = abs(answer['flows'] - result['flows'])\n",
    "print('Flows:')\n",
    "print('total_od_flow =', total_od_flow)\n",
    "print('min_i |f - f^*|[i] =', np.min(delta))\n",
    "print('max_i |f - f^*|[i] =', np.max(delta))\n",
    "print('||f - f^*||_1 / ||f^*||_1 =', np.linalg.norm(result['flows'] - answer['flows'], ord = 1) / np.linalg.norm(answer['flows'], ord = 1))\n",
    "print('||f - f^*||_2 / ||f^*||_2 =', np.linalg.norm(delta) / np.linalg.norm(answer['flows']))\n",
    "print('Times:')\n",
    "delta = abs(answer['times'] - result['times'])\n",
    "print('min_i |t - t^*|[i] =', np.min(delta))\n",
    "print('max_i |t - t^*|[i] =', np.max(delta))\n",
    "print('||t - t^*||_1 =', np.sum(delta))"
   ]
  },
  {
   "cell_type": "code",
   "execution_count": 21,
   "metadata": {},
   "outputs": [
    {
     "data": {
      "image/png": "[encoded data removed]",
      "text/plain": [
       "<Figure size 720x360 with 1 Axes>"
      ]
     },
     "metadata": {
      "needs_background": "light"
     },
     "output_type": "display_data"
    }
   ],
   "source": [
    "dual_gaps = np.array(result['history']['dual_gap'])\n",
    "iters = np.array(result['history']['iter'])\n",
    "plt.figure(figsize = (10, 5))\n",
    "plt.plot(iters, dual_gaps)\n",
    "plt.title('Frank-Wolfe algorithm', fontsize = 16)\n",
    "plt.ylabel('duality gap', fontsize = 12)\n",
    "plt.xlabel('iterations', fontsize = 12)\n",
    "plt.yscale('log')\n",
    "plt.show()"
   ]
  },
  {
   "cell_type": "code",
   "execution_count": 3,
   "metadata": {},
   "outputs": [
    {
     "data": {
      "text/plain": [
       "array([1.00000000e+03, 3.16227766e+02, 1.00000000e+02, 3.16227766e+01,\n",
       "       1.00000000e+01, 3.16227766e+00, 1.00000000e+00, 3.16227766e-01])"
      ]
     },
     "execution_count": 3,
     "metadata": {},
     "output_type": "execute_result"
    }
   ],
   "source": [
    "epsilons = np.logspace(3,-0.5,8)\n",
    "epsilons"
   ]
  },
  {
   "cell_type": "markdown",
   "metadata": {},
   "source": [
    "## Universal Similar Triangles"
   ]
  },
  {
   "cell_type": "code",
   "execution_count": 31,
   "metadata": {},
   "outputs": [
    {
     "name": "stdout",
     "output_type": "stream",
     "text": [
      "eps_abs = 1000.0\n",
      "Composite optimization...\n",
      "Oracles created...\n",
      "Universal similar triangles method...\n",
      "Primal_init = 1.29606e+06\n",
      "Dual_init = -1.24813e+06\n",
      "Duality_gap_init = 47933.4\n",
      "Result: success Total iters: 12\n",
      "Primal_func_value = 1.28631e+06\n",
      "Dual_func_value = -1.28553e+06\n",
      "Duality_gap = 775.701\n",
      "Duality_gap / Duality_gap_init = 0.0161829\n",
      "Oracle elapsed time: 3 sec\n",
      "Elapsed time: 3 sec\n",
      "Time ratio = 3.0464158854257204\n",
      "Flow excess = 1.1585339704654092\n",
      "\n",
      "eps_abs = 316.22776601683796\n",
      "Composite optimization...\n",
      "Oracles created...\n",
      "Universal similar triangles method...\n",
      "Primal_init = 1.29606e+06\n",
      "Dual_init = -1.24813e+06\n",
      "Duality_gap_init = 47933.4\n",
      "Result: success Total iters: 20\n",
      "Primal_func_value = 1.28611e+06\n",
      "Dual_func_value = -1.28582e+06\n",
      "Duality_gap = 292.674\n",
      "Duality_gap / Duality_gap_init = 0.00610586\n",
      "Oracle elapsed time: 7 sec\n",
      "Elapsed time: 7 sec\n",
      "Time ratio = 3.1357283581860322\n",
      "Flow excess = 1.058153077611339\n",
      "\n",
      "eps_abs = 100.0\n",
      "Composite optimization...\n",
      "Oracles created...\n",
      "Universal similar triangles method...\n",
      "Primal_init = 1.29606e+06\n",
      "Dual_init = -1.24813e+06\n",
      "Duality_gap_init = 47933.4\n",
      "Result: success Total iters: 53\n",
      "Primal_func_value = 1.28606e+06\n",
      "Dual_func_value = -1.28597e+06\n",
      "Duality_gap = 91.5871\n",
      "Duality_gap / Duality_gap_init = 0.00191072\n",
      "Oracle elapsed time: 16 sec\n",
      "Elapsed time: 16 sec\n",
      "Time ratio = 3.2137298037733792\n",
      "Flow excess = 0.9993248667561812\n",
      "\n",
      "eps_abs = 31.622776601683793\n",
      "Composite optimization...\n",
      "Oracles created...\n",
      "Universal similar triangles method...\n",
      "Primal_init = 1.29606e+06\n",
      "Dual_init = -1.24813e+06\n",
      "Duality_gap_init = 47933.4\n",
      "Result: success Total iters: 175\n",
      "Primal_func_value = 1.28604e+06\n",
      "Dual_func_value = -1.28601e+06\n",
      "Duality_gap = 31.1566\n",
      "Duality_gap / Duality_gap_init = 0.000649998\n",
      "Oracle elapsed time: 58 sec\n",
      "Elapsed time: 58 sec\n",
      "Time ratio = 3.255211026281018\n",
      "Flow excess = 0.9912717222803766\n",
      "\n",
      "eps_abs = 10.0\n",
      "Composite optimization...\n",
      "Oracles created...\n",
      "Universal similar triangles method...\n",
      "Primal_init = 1.29606e+06\n",
      "Dual_init = -1.24813e+06\n",
      "Duality_gap_init = 47933.4\n",
      "Result: success Total iters: 685\n",
      "Primal_func_value = 1.28604e+06\n",
      "Dual_func_value = -1.28603e+06\n",
      "Duality_gap = 9.96941\n",
      "Duality_gap / Duality_gap_init = 0.000207985\n",
      "Oracle elapsed time: 215 sec\n",
      "Elapsed time: 217 sec\n",
      "Time ratio = 3.2772855379477623\n",
      "Flow excess = 0.9857792726814827\n",
      "\n",
      "eps_abs = 3.1622776601683795\n",
      "Composite optimization...\n",
      "Oracles created...\n",
      "Universal similar triangles method...\n",
      "Primal_init = 1.29606e+06\n",
      "Dual_init = -1.24813e+06\n",
      "Duality_gap_init = 47933.4\n",
      "\n",
      "Iterations number: 2000\n",
      "Inner iterations number: 4002\n",
      "Primal_func_value = 1.28604e+06\n",
      "Dual_func_value = -1.28603e+06\n",
      "Duality_gap = 10.9782\n",
      "Duality_gap / Duality_gap_init = 0.00022903\n",
      "Result: success Total iters: 2599\n",
      "Primal_func_value = 1.28603e+06\n",
      "Dual_func_value = -1.28603e+06\n",
      "Duality_gap = 3.15797\n",
      "Duality_gap / Duality_gap_init = 6.58825e-05\n",
      "Oracle elapsed time: 801 sec\n",
      "Elapsed time: 806 sec\n",
      "Time ratio = 3.289154625299737\n",
      "Flow excess = 0.9815665206847359\n",
      "\n",
      "eps_abs = 1.0\n",
      "Composite optimization...\n",
      "Oracles created...\n",
      "Universal similar triangles method...\n",
      "Primal_init = 1.29606e+06\n",
      "Dual_init = -1.24813e+06\n",
      "Duality_gap_init = 47933.4\n",
      "\n",
      "Iterations number: 2000\n",
      "Inner iterations number: 4009\n",
      "Primal_func_value = 1.28609e+06\n",
      "Dual_func_value = -1.28586e+06\n",
      "Duality_gap = 236.509\n",
      "Duality_gap / Duality_gap_init = 0.00493412\n",
      "\n",
      "Iterations number: 4000\n",
      "Inner iterations number: 8006\n",
      "Primal_func_value = 1.28605e+06\n",
      "Dual_func_value = -1.286e+06\n",
      "Duality_gap = 52.4017\n",
      "Duality_gap / Duality_gap_init = 0.00109322\n",
      "\n",
      "Iterations number: 6000\n",
      "Inner iterations number: 12005\n",
      "Primal_func_value = 1.28604e+06\n",
      "Dual_func_value = -1.28603e+06\n",
      "Duality_gap = 11.7149\n",
      "Duality_gap / Duality_gap_init = 0.0002444\n",
      "\n",
      "Iterations number: 8000\n",
      "Inner iterations number: 16002\n",
      "Primal_func_value = 1.28603e+06\n",
      "Dual_func_value = -1.28603e+06\n",
      "Duality_gap = 2.95588\n",
      "Duality_gap / Duality_gap_init = 6.16665e-05\n",
      "Result: success Total iters: 9778\n",
      "Primal_func_value = 1.28603e+06\n",
      "Dual_func_value = -1.28603e+06\n",
      "Duality_gap = 0.999875\n",
      "Duality_gap / Duality_gap_init = 2.08597e-05\n",
      "Oracle elapsed time: 3071 sec\n",
      "Elapsed time: 3089 sec\n",
      "Time ratio = 3.2954026946688333\n",
      "Flow excess = 0.9799321114407171\n",
      "\n",
      "eps_abs = 0.31622776601683794\n",
      "Composite optimization...\n",
      "Oracles created...\n",
      "Universal similar triangles method...\n",
      "Primal_init = 1.29606e+06\n",
      "Dual_init = -1.24813e+06\n",
      "Duality_gap_init = 47933.4\n",
      "\n",
      "Iterations number: 2000\n",
      "Inner iterations number: 4012\n",
      "Primal_func_value = 1.28621e+06\n",
      "Dual_func_value = -1.28559e+06\n",
      "Duality_gap = 625.516\n",
      "Duality_gap / Duality_gap_init = 0.0130497\n",
      "\n",
      "Iterations number: 4000\n",
      "Inner iterations number: 8013\n",
      "Primal_func_value = 1.28613e+06\n",
      "Dual_func_value = -1.28575e+06\n",
      "Duality_gap = 376.62\n",
      "Duality_gap / Duality_gap_init = 0.00785715\n",
      "\n",
      "Iterations number: 6000\n",
      "Inner iterations number: 12014\n",
      "Primal_func_value = 1.28609e+06\n",
      "Dual_func_value = -1.28586e+06\n",
      "Duality_gap = 235.219\n",
      "Duality_gap / Duality_gap_init = 0.00490721\n",
      "\n",
      "Iterations number: 8000\n",
      "Inner iterations number: 16011\n",
      "Primal_func_value = 1.28607e+06\n",
      "Dual_func_value = -1.28593e+06\n",
      "Duality_gap = 142.724\n",
      "Duality_gap / Duality_gap_init = 0.00297755\n",
      "\n",
      "Iterations number: 10000\n",
      "Inner iterations number: 20011\n",
      "Primal_func_value = 1.28606e+06\n",
      "Dual_func_value = -1.28597e+06\n",
      "Duality_gap = 87.3812\n",
      "Duality_gap / Duality_gap_init = 0.00182297\n",
      "Result: iterations number exceeded Total iters: 10000\n",
      "Primal_func_value = 1.28606e+06\n",
      "Dual_func_value = -1.28597e+06\n",
      "Duality_gap = 87.3812\n",
      "Duality_gap / Duality_gap_init = 0.00182297\n",
      "Oracle elapsed time: 3097 sec\n",
      "Elapsed time: 3116 sec\n",
      "Time ratio = 3.2175069272913377\n",
      "Flow excess = 0.9979209176412647\n",
      "\n"
     ]
    }
   ],
   "source": [
    "assert(model.mu == 0.25)\n",
    "max_iter = 10000\n",
    "for index, eps_abs in enumerate(epsilons):\n",
    "    print('eps_abs =', eps_abs)\n",
    "    solver_kwargs = {'eps_abs': eps_abs,\n",
    "                     'max_iter': max_iter, 'stop_crit': 'dual_gap',\n",
    "                     'verbose' : True, 'verbose_step': 2000, 'save_history' : True}\n",
    "    tic = time.time()\n",
    "    result = model.find_equilibrium(solver_name = 'ustm', composite = True, solver_kwargs = solver_kwargs)\n",
    "    toc = time.time()\n",
    "    print('Elapsed time: {:.0f} sec'.format(toc - tic))\n",
    "    print('Time ratio =', np.max(result['times'] / graph_data['graph_table']['free_flow_time']))\n",
    "    print('Flow excess =', np.max(result['flows'] / graph_data['graph_table']['capacity']) - 1, end = '\\n\\n')\n",
    "\n",
    "    result['eps_abs'] = eps_abs\n",
    "    result['elapsed_time'] = toc - tic\n",
    "    with open(beckmann_save + 'anaheim_result_' + 'ustm' + '_eps_abs_' + str(index) + '_beckmann.pickle', 'wb') as f:\n",
    "        pickle.dump(result, f)"
   ]
  },
  {
   "cell_type": "code",
   "execution_count": 15,
   "metadata": {
    "scrolled": true
   },
   "outputs": [
    {
     "name": "stdout",
     "output_type": "stream",
     "text": [
      "eps_abs = 0.31622776601683794\n",
      "Composite optimization...\n",
      "Oracles created...\n",
      "Universal similar triangles method...\n",
      "Primal_init = 1.29606e+06\n",
      "Dual_init = -1.24813e+06\n",
      "Duality_gap_init = 47933.4\n",
      "\n",
      "Iterations number: 4000\n",
      "Inner iterations number: 8013\n",
      "Primal_func_value = 1.28613e+06\n",
      "Dual_func_value = -1.28575e+06\n",
      "Duality_gap = 376.62\n",
      "Duality_gap / Duality_gap_init = 0.00785715\n",
      "\n",
      "Iterations number: 8000\n",
      "Inner iterations number: 16011\n",
      "Primal_func_value = 1.28607e+06\n",
      "Dual_func_value = -1.28593e+06\n",
      "Duality_gap = 142.724\n",
      "Duality_gap / Duality_gap_init = 0.00297755\n",
      "\n",
      "Iterations number: 12000\n",
      "Inner iterations number: 24010\n",
      "Primal_func_value = 1.28605e+06\n",
      "Dual_func_value = -1.286e+06\n",
      "Duality_gap = 54.5036\n",
      "Duality_gap / Duality_gap_init = 0.00113707\n",
      "\n",
      "Iterations number: 16000\n",
      "Inner iterations number: 32009\n",
      "Primal_func_value = 1.28604e+06\n",
      "Dual_func_value = -1.28602e+06\n",
      "Duality_gap = 20.5112\n",
      "Duality_gap / Duality_gap_init = 0.000427911\n",
      "\n",
      "Iterations number: 20000\n",
      "Inner iterations number: 40009\n",
      "Primal_func_value = 1.28604e+06\n",
      "Dual_func_value = -1.28603e+06\n",
      "Duality_gap = 7.97124\n",
      "Duality_gap / Duality_gap_init = 0.000166298\n",
      "\n",
      "Iterations number: 24000\n",
      "Inner iterations number: 48007\n",
      "Primal_func_value = 1.28603e+06\n",
      "Dual_func_value = -1.28603e+06\n",
      "Duality_gap = 3.23836\n",
      "Duality_gap / Duality_gap_init = 6.75595e-05\n",
      "\n",
      "Iterations number: 28000\n",
      "Inner iterations number: 56007\n",
      "Primal_func_value = 1.28603e+06\n",
      "Dual_func_value = -1.28603e+06\n",
      "Duality_gap = 1.43056\n",
      "Duality_gap / Duality_gap_init = 2.98448e-05\n",
      "\n",
      "Iterations number: 32000\n",
      "Inner iterations number: 64005\n",
      "Primal_func_value = 1.28603e+06\n",
      "Dual_func_value = -1.28603e+06\n",
      "Duality_gap = 0.669484\n",
      "Duality_gap / Duality_gap_init = 1.3967e-05\n",
      "\n",
      "Iterations number: 36000\n",
      "Inner iterations number: 72004\n",
      "Primal_func_value = 1.28603e+06\n",
      "Dual_func_value = -1.28603e+06\n",
      "Duality_gap = 0.327298\n",
      "Duality_gap / Duality_gap_init = 6.82818e-06\n",
      "Result: success Total iters: 36209\n",
      "Primal_func_value = 1.28603e+06\n",
      "Dual_func_value = -1.28603e+06\n",
      "Duality_gap = 0.316222\n",
      "Duality_gap / Duality_gap_init = 6.59711e-06\n",
      "Oracle elapsed time: 11080 sec\n",
      "Elapsed time: 11143 sec\n",
      "Time ratio = 3.298306752141685\n",
      "Flow excess = 0.9792753287448246\n",
      "\n"
     ]
    }
   ],
   "source": [
    "assert(model.mu == 0.25)\n",
    "max_iter = 40000\n",
    "for index, eps_abs in enumerate(epsilons):\n",
    "    if index < len(epsilons) - 1:\n",
    "        continue\n",
    "    print('eps_abs =', eps_abs)\n",
    "    solver_kwargs = {'eps_abs': eps_abs,\n",
    "                     'max_iter': max_iter, 'stop_crit': 'dual_gap',\n",
    "                     'verbose' : True, 'verbose_step': 4000, 'save_history' : True}\n",
    "    tic = time.time()\n",
    "    result = model.find_equilibrium(solver_name = 'ustm', composite = True, solver_kwargs = solver_kwargs)\n",
    "    toc = time.time()\n",
    "    print('Elapsed time: {:.0f} sec'.format(toc - tic))\n",
    "    print('Time ratio =', np.max(result['times'] / graph_data['graph_table']['free_flow_time']))\n",
    "    print('Flow excess =', np.max(result['flows'] / graph_data['graph_table']['capacity']) - 1, end = '\\n\\n')\n",
    "\n",
    "    result['eps_abs'] = eps_abs\n",
    "    result['elapsed_time'] = toc - tic\n",
    "    with open(beckmann_save + 'anaheim_result_' + 'ustm' + '_eps_abs_' + str(index) + '_beckmann.pickle', 'wb') as f:\n",
    "        pickle.dump(result, f)"
   ]
  },
  {
   "cell_type": "code",
   "execution_count": 59,
   "metadata": {},
   "outputs": [
    {
     "data": {
      "text/plain": [
       "array([10000.        ,  5623.4132519 ,  3162.27766017,  1778.27941004])"
      ]
     },
     "execution_count": 59,
     "metadata": {},
     "output_type": "execute_result"
    }
   ],
   "source": [
    "#index += 8\n",
    "#epsilons = np.logspace(4, 3, 5)[:-1]\n",
    "#epsilons"
   ]
  },
  {
   "cell_type": "markdown",
   "metadata": {},
   "source": [
    "## Universal Gradient Descent"
   ]
  },
  {
   "cell_type": "code",
   "execution_count": 6,
   "metadata": {},
   "outputs": [
    {
     "data": {
      "text/plain": [
       "array([1000.        ,  562.34132519,  316.22776602,  177.827941  ,\n",
       "        100.        ,   56.23413252,   31.6227766 ])"
      ]
     },
     "execution_count": 6,
     "metadata": {},
     "output_type": "execute_result"
    }
   ],
   "source": [
    "epsilons = np.logspace(3,1.5,7)\n",
    "epsilons"
   ]
  },
  {
   "cell_type": "code",
   "execution_count": 7,
   "metadata": {
    "scrolled": true
   },
   "outputs": [
    {
     "name": "stdout",
     "output_type": "stream",
     "text": [
      "eps_abs = 1000.0\n",
      "Composite optimization...\n",
      "Oracles created...\n",
      "Universal gradient descent method...\n",
      "Primal_init = 1.29606e+06\n",
      "Dual_init = -1.24813e+06\n",
      "Duality_gap_init = 47933.4\n",
      "\n",
      "Result: success\n",
      "Total iters: 74\n",
      "Primal_func_value = 1.28629e+06\n",
      "Dual_func_value = -1.2853e+06\n",
      "Duality_gap = 990.459\n",
      "Duality_gap / Duality_gap_init = 0.0206632\n",
      "Oracle elapsed time: 29 sec\n",
      "Elapsed time: 30 sec\n",
      "Time ratio = 2.545876295139248\n",
      "Flow excess = 1.179200110558324\n",
      "\n",
      "eps_abs = 562.341325190349\n",
      "Composite optimization...\n",
      "Oracles created...\n",
      "Universal gradient descent method...\n",
      "Primal_init = 1.29606e+06\n",
      "Dual_init = -1.24813e+06\n",
      "Duality_gap_init = 47933.4\n",
      "\n",
      "Result: success\n",
      "Total iters: 196\n",
      "Primal_func_value = 1.28619e+06\n",
      "Dual_func_value = -1.28564e+06\n",
      "Duality_gap = 556.132\n",
      "Duality_gap / Duality_gap_init = 0.0116022\n",
      "Oracle elapsed time: 79 sec\n",
      "Elapsed time: 80 sec\n",
      "Time ratio = 2.7413540508489267\n",
      "Flow excess = 1.128239661185849\n",
      "\n",
      "eps_abs = 316.22776601683796\n",
      "Composite optimization...\n",
      "Oracles created...\n",
      "Universal gradient descent method...\n",
      "Primal_init = 1.29606e+06\n",
      "Dual_init = -1.24813e+06\n",
      "Duality_gap_init = 47933.4\n",
      "\n",
      "Result: success\n",
      "Total iters: 521\n",
      "Primal_func_value = 1.28613e+06\n",
      "Dual_func_value = -1.28581e+06\n",
      "Duality_gap = 315.529\n",
      "Duality_gap / Duality_gap_init = 0.00658266\n",
      "Oracle elapsed time: 180 sec\n",
      "Elapsed time: 181 sec\n",
      "Time ratio = 2.8984775307319812\n",
      "Flow excess = 1.0867413151607432\n",
      "\n",
      "eps_abs = 177.82794100389228\n",
      "Composite optimization...\n",
      "Oracles created...\n",
      "Universal gradient descent method...\n",
      "Primal_init = 1.29606e+06\n",
      "Dual_init = -1.24813e+06\n",
      "Duality_gap_init = 47933.4\n",
      "\n",
      "Result: success\n",
      "Total iters: 1365\n",
      "Primal_func_value = 1.28609e+06\n",
      "Dual_func_value = -1.28592e+06\n",
      "Duality_gap = 177.756\n",
      "Duality_gap / Duality_gap_init = 0.00370839\n",
      "Oracle elapsed time: 465 sec\n",
      "Elapsed time: 468 sec\n",
      "Time ratio = 3.01552527210524\n",
      "Flow excess = 1.0553030844200242\n",
      "\n",
      "eps_abs = 100.0\n",
      "Composite optimization...\n",
      "Oracles created...\n",
      "Universal gradient descent method...\n",
      "Primal_init = 1.29606e+06\n",
      "Dual_init = -1.24813e+06\n",
      "Duality_gap_init = 47933.4\n",
      "\n",
      "Result: success\n",
      "Total iters: 3679\n",
      "Primal_func_value = 1.28607e+06\n",
      "Dual_func_value = -1.28597e+06\n",
      "Duality_gap = 99.9572\n",
      "Duality_gap / Duality_gap_init = 0.00208534\n",
      "Oracle elapsed time: 1254 sec\n",
      "Elapsed time: 1261 sec\n",
      "Time ratio = 3.104455252609348\n",
      "Flow excess = 1.0315719506384298\n",
      "\n",
      "eps_abs = 56.23413251903491\n",
      "Composite optimization...\n",
      "Oracles created...\n",
      "Universal gradient descent method...\n",
      "Primal_init = 1.29606e+06\n",
      "Dual_init = -1.24813e+06\n",
      "Duality_gap_init = 47933.4\n",
      "\n",
      "Iterations number: 4000\n",
      "Inner iterations number: 7999\n",
      "Primal_func_value = 1.2861e+06\n",
      "Dual_func_value = -1.28592e+06\n",
      "Duality_gap = 180.756\n",
      "Duality_gap / Duality_gap_init = 0.00377098\n",
      "\n",
      "Iterations number: 8000\n",
      "Inner iterations number: 16000\n",
      "Primal_func_value = 1.28606e+06\n",
      "Dual_func_value = -1.28599e+06\n",
      "Duality_gap = 70.0484\n",
      "Duality_gap / Duality_gap_init = 0.00146137\n",
      "\n",
      "Result: success\n",
      "Total iters: 9523\n",
      "Primal_func_value = 1.28606e+06\n",
      "Dual_func_value = -1.286e+06\n",
      "Duality_gap = 56.2251\n",
      "Duality_gap / Duality_gap_init = 0.00117298\n",
      "Oracle elapsed time: 3246 sec\n",
      "Elapsed time: 3266 sec\n",
      "Time ratio = 3.166123865939606\n",
      "Flow excess = 1.0150045833334387\n",
      "\n",
      "eps_abs = 31.622776601683793\n",
      "Composite optimization...\n",
      "Oracles created...\n",
      "Universal gradient descent method...\n",
      "Primal_init = 1.29606e+06\n",
      "Dual_init = -1.24813e+06\n",
      "Duality_gap_init = 47933.4\n",
      "\n",
      "Iterations number: 4000\n",
      "Inner iterations number: 7999\n",
      "Primal_func_value = 1.28615e+06\n",
      "Dual_func_value = -1.28576e+06\n",
      "Duality_gap = 390.196\n",
      "Duality_gap / Duality_gap_init = 0.00814038\n",
      "\n",
      "Iterations number: 8000\n",
      "Inner iterations number: 16001\n",
      "Primal_func_value = 1.28609e+06\n",
      "Dual_func_value = -1.28594e+06\n",
      "Duality_gap = 148.231\n",
      "Duality_gap / Duality_gap_init = 0.00309243\n",
      "\n",
      "Iterations number: 12000\n",
      "Inner iterations number: 24000\n",
      "Primal_func_value = 1.28607e+06\n",
      "Dual_func_value = -1.28598e+06\n",
      "Duality_gap = 85.1415\n",
      "Duality_gap / Duality_gap_init = 0.00177625\n",
      "\n",
      "Iterations number: 16000\n",
      "Inner iterations number: 31999\n",
      "Primal_func_value = 1.28606e+06\n",
      "Dual_func_value = -1.286e+06\n",
      "Duality_gap = 58.0316\n",
      "Duality_gap / Duality_gap_init = 0.00121067\n",
      "\n",
      "Iterations number: 20000\n",
      "Inner iterations number: 40001\n",
      "Primal_func_value = 1.28605e+06\n",
      "Dual_func_value = -1.28601e+06\n",
      "Duality_gap = 43.535\n",
      "Duality_gap / Duality_gap_init = 0.000908239\n",
      "\n",
      "Iterations number: 24000\n",
      "Inner iterations number: 48000\n",
      "Primal_func_value = 1.28605e+06\n",
      "Dual_func_value = -1.28601e+06\n",
      "Duality_gap = 34.7431\n",
      "Duality_gap / Duality_gap_init = 0.000724819\n",
      "\n",
      "Result: success\n",
      "Total iters: 26007\n",
      "Primal_func_value = 1.28605e+06\n",
      "Dual_func_value = -1.28602e+06\n",
      "Duality_gap = 31.6221\n",
      "Duality_gap / Duality_gap_init = 0.000659709\n",
      "Oracle elapsed time: 8870 sec\n",
      "Elapsed time: 8922 sec\n",
      "Time ratio = 3.212933648214653\n",
      "Flow excess = 1.0024151851037217\n",
      "\n"
     ]
    }
   ],
   "source": [
    "#weighted t added\n",
    "assert(model.mu == 0.25)\n",
    "max_iter = 40000\n",
    "for index, eps_abs in enumerate(epsilons):\n",
    "    print('eps_abs =', eps_abs)\n",
    "    solver_kwargs = {'eps_abs': eps_abs,\n",
    "                     'max_iter': max_iter, 'stop_crit': 'dual_gap',\n",
    "                     'verbose' : True, 'verbose_step': 4000, 'save_history' : True}\n",
    "    tic = time.time()\n",
    "    result = model.find_equilibrium(solver_name = 'ugd', composite = True, solver_kwargs = solver_kwargs)\n",
    "    toc = time.time()\n",
    "    print('Elapsed time: {:.0f} sec'.format(toc - tic))\n",
    "    print('Time ratio =', np.max(result['times'] / graph_data['graph_table']['free_flow_time']))\n",
    "    print('Flow excess =', np.max(result['flows'] / graph_data['graph_table']['capacity']) - 1, end = '\\n\\n')\n",
    "    \n",
    "    result['eps_abs'] = eps_abs\n",
    "    result['elapsed_time'] = toc - tic\n",
    "    with open(beckmann_save + 'anaheim_result_' + 'ugd' + '_eps_abs_' + str(index) + '_beckmann.pickle', 'wb') as f:\n",
    "        pickle.dump(result, f)"
   ]
  },
  {
   "cell_type": "code",
   "execution_count": 57,
   "metadata": {},
   "outputs": [
    {
     "data": {
      "text/plain": [
       "array([10000.        ,  5623.4132519 ,  3162.27766017,  1778.27941004])"
      ]
     },
     "execution_count": 57,
     "metadata": {},
     "output_type": "execute_result"
    }
   ],
   "source": [
    "#index += 7\n",
    "#epsilons = np.logspace(4, 3, 5)[:-1]\n",
    "#epsilons"
   ]
  },
  {
   "cell_type": "markdown",
   "metadata": {},
   "source": [
    "## Weighted Dual Averages"
   ]
  },
  {
   "cell_type": "markdown",
   "metadata": {},
   "source": [
    "### Composite optimization"
   ]
  },
  {
   "cell_type": "code",
   "execution_count": 7,
   "metadata": {
    "scrolled": true
   },
   "outputs": [
    {
     "name": "stdout",
     "output_type": "stream",
     "text": [
      "Composite optimization...\n",
      "Oracles created...\n",
      "Weighted dual averages method...\n",
      "Primal_init = 1.29606e+06\n",
      "Dual_init = -1.24813e+06\n",
      "Duality_gap_init = 47933.4\n",
      "\n",
      "Iterations number: 4000\n",
      "Inner iterations number: 0\n",
      "Primal_func_value = 1.28604e+06\n",
      "Dual_func_value = -1.28602e+06\n",
      "Duality_gap = 18.1014\n",
      "Duality_gap / Duality_gap_init = 0.000377636\n",
      "\n",
      "Iterations number: 8000\n",
      "Inner iterations number: 0\n",
      "Primal_func_value = 1.28603e+06\n",
      "Dual_func_value = -1.28602e+06\n",
      "Duality_gap = 9.47457\n",
      "Duality_gap / Duality_gap_init = 0.000197661\n",
      "\n",
      "Iterations number: 12000\n",
      "Inner iterations number: 0\n",
      "Primal_func_value = 1.28603e+06\n",
      "Dual_func_value = -1.28603e+06\n",
      "Duality_gap = 6.45904\n",
      "Duality_gap / Duality_gap_init = 0.00013475\n",
      "\n",
      "Iterations number: 16000\n",
      "Inner iterations number: 0\n",
      "Primal_func_value = 1.28603e+06\n",
      "Dual_func_value = -1.28603e+06\n",
      "Duality_gap = 4.91314\n",
      "Duality_gap / Duality_gap_init = 0.000102499\n",
      "\n",
      "Iterations number: 20000\n",
      "Inner iterations number: 0\n",
      "Primal_func_value = 1.28603e+06\n",
      "Dual_func_value = -1.28603e+06\n",
      "Duality_gap = 3.97038\n",
      "Duality_gap / Duality_gap_init = 8.28312e-05\n",
      "\n",
      "Iterations number: 24000\n",
      "Inner iterations number: 0\n",
      "Primal_func_value = 1.28603e+06\n",
      "Dual_func_value = -1.28603e+06\n",
      "Duality_gap = 3.33433\n",
      "Duality_gap / Duality_gap_init = 6.95618e-05\n",
      "\n",
      "Iterations number: 28000\n",
      "Inner iterations number: 0\n",
      "Primal_func_value = 1.28603e+06\n",
      "Dual_func_value = -1.28603e+06\n",
      "Duality_gap = 2.87551\n",
      "Duality_gap / Duality_gap_init = 5.99897e-05\n",
      "\n",
      "Iterations number: 32000\n",
      "Inner iterations number: 0\n",
      "Primal_func_value = 1.28603e+06\n",
      "Dual_func_value = -1.28603e+06\n",
      "Duality_gap = 2.5289\n",
      "Duality_gap / Duality_gap_init = 5.27585e-05\n",
      "\n",
      "Iterations number: 36000\n",
      "Inner iterations number: 0\n",
      "Primal_func_value = 1.28603e+06\n",
      "Dual_func_value = -1.28603e+06\n",
      "Duality_gap = 2.25747\n",
      "Duality_gap / Duality_gap_init = 4.7096e-05\n",
      "\n",
      "Iterations number: 40000\n",
      "Inner iterations number: 0\n",
      "Primal_func_value = 1.28603e+06\n",
      "Dual_func_value = -1.28603e+06\n",
      "Duality_gap = 2.0393\n",
      "Duality_gap / Duality_gap_init = 4.25444e-05\n",
      "Result: iterations number exceeded\n",
      "Total iters: 40000\n",
      "Primal_func_value = 1.28603e+06\n",
      "Dual_func_value = -1.28603e+06\n",
      "Duality_gap = 2.0393\n",
      "Duality_gap / Duality_gap_init = 4.25444e-05\n",
      "Oracle elapsed time: 6160 sec\n",
      "Elapsed time: 6208 sec\n",
      "Time ratio = 3.2735584546961434\n",
      "Flow excess = 0.9854135759221865\n",
      "\n"
     ]
    }
   ],
   "source": [
    "assert(model.mu == 0.25)\n",
    "max_iter = 40000\n",
    "solver_kwargs = {'max_iter' : max_iter, 'stop_crit': 'max_iter',\n",
    "                 'verbose': True, 'verbose_step': 4000, 'save_history': True}\n",
    "tic = time.time()\n",
    "result = model.find_equilibrium(solver_name = 'wda', composite = True, solver_kwargs = solver_kwargs)\n",
    "toc = time.time()\n",
    "print('Elapsed time: {:.0f} sec'.format(toc - tic))\n",
    "print('Time ratio =', np.max(result['times'] / graph_data['graph_table']['free_flow_time']))\n",
    "print('Flow excess =', np.max(result['flows'] / graph_data['graph_table']['capacity']) - 1, end = '\\n\\n')\n",
    "\n",
    "result['elapsed_time'] = toc - tic\n",
    "with open(beckmann_save + 'anaheim_result_' + 'wda' + '_max_iter_' + str(max_iter) + '_beckmann.pickle', 'wb') as f:\n",
    "    pickle.dump(result, f)"
   ]
  },
  {
   "cell_type": "markdown",
   "metadata": {},
   "source": [
    "### Non-composite optimization"
   ]
  },
  {
   "cell_type": "code",
   "execution_count": 9,
   "metadata": {
    "scrolled": true
   },
   "outputs": [
    {
     "name": "stdout",
     "output_type": "stream",
     "text": [
      "Non-composite optimization...\n",
      "Oracles created...\n",
      "Weighted dual averages method...\n",
      "Primal_init = 1.29606e+06\n",
      "Dual_init = -1.24813e+06\n",
      "Duality_gap_init = 47933.4\n",
      "\n",
      "Iterations number: 4000\n",
      "Inner iterations number: 0\n",
      "Primal_func_value = 1.2868e+06\n",
      "Dual_func_value = -1.28265e+06\n",
      "Duality_gap = 4156.14\n",
      "Duality_gap / Duality_gap_init = 0.0867066\n",
      "\n",
      "Iterations number: 8000\n",
      "Inner iterations number: 0\n",
      "Primal_func_value = 1.28641e+06\n",
      "Dual_func_value = -1.28391e+06\n",
      "Duality_gap = 2495.95\n",
      "Duality_gap / Duality_gap_init = 0.0520713\n",
      "\n",
      "Iterations number: 12000\n",
      "Inner iterations number: 0\n",
      "Primal_func_value = 1.28628e+06\n",
      "Dual_func_value = -1.2844e+06\n",
      "Duality_gap = 1884.2\n",
      "Duality_gap / Duality_gap_init = 0.0393086\n",
      "\n",
      "Iterations number: 16000\n",
      "Inner iterations number: 0\n",
      "Primal_func_value = 1.28622e+06\n",
      "Dual_func_value = -1.28466e+06\n",
      "Duality_gap = 1558.96\n",
      "Duality_gap / Duality_gap_init = 0.0325234\n",
      "\n",
      "Iterations number: 20000\n",
      "Inner iterations number: 0\n",
      "Primal_func_value = 1.28619e+06\n",
      "Dual_func_value = -1.28484e+06\n",
      "Duality_gap = 1349.84\n",
      "Duality_gap / Duality_gap_init = 0.0281607\n",
      "\n",
      "Iterations number: 24000\n",
      "Inner iterations number: 0\n",
      "Primal_func_value = 1.28616e+06\n",
      "Dual_func_value = -1.28496e+06\n",
      "Duality_gap = 1201.66\n",
      "Duality_gap / Duality_gap_init = 0.0250693\n",
      "\n",
      "Iterations number: 28000\n",
      "Inner iterations number: 0\n",
      "Primal_func_value = 1.28615e+06\n",
      "Dual_func_value = -1.28506e+06\n",
      "Duality_gap = 1090.27\n",
      "Duality_gap / Duality_gap_init = 0.0227455\n",
      "\n",
      "Iterations number: 32000\n",
      "Inner iterations number: 0\n",
      "Primal_func_value = 1.28613e+06\n",
      "Dual_func_value = -1.28513e+06\n",
      "Duality_gap = 1002.46\n",
      "Duality_gap / Duality_gap_init = 0.0209137\n",
      "\n",
      "Iterations number: 36000\n",
      "Inner iterations number: 0\n",
      "Primal_func_value = 1.28612e+06\n",
      "Dual_func_value = -1.28519e+06\n",
      "Duality_gap = 930.821\n",
      "Duality_gap / Duality_gap_init = 0.0194191\n",
      "\n",
      "Iterations number: 40000\n",
      "Inner iterations number: 0\n",
      "Primal_func_value = 1.28612e+06\n",
      "Dual_func_value = -1.28524e+06\n",
      "Duality_gap = 871.32\n",
      "Duality_gap / Duality_gap_init = 0.0181777\n",
      "Result: iterations number exceeded\n",
      "Total iters: 40000\n",
      "Primal_func_value = 1.28612e+06\n",
      "Dual_func_value = -1.28524e+06\n",
      "Duality_gap = 871.32\n",
      "Duality_gap / Duality_gap_init = 0.0181777\n",
      "Oracle elapsed time: 6601 sec\n",
      "Elapsed time: 6638 sec\n",
      "Time ratio = 3.341011946918554\n",
      "Flow excess = 0.99109858672655\n",
      "\n"
     ]
    }
   ],
   "source": [
    "assert(model.mu == 0.25)\n",
    "max_iter = 40000\n",
    "solver_kwargs = {'max_iter' : max_iter, 'stop_crit': 'max_iter',\n",
    "                 'verbose': True, 'verbose_step': 4000, 'save_history' : True}\n",
    "tic = time.time()\n",
    "result = model.find_equilibrium(solver_name = 'wda', composite = False, solver_kwargs = solver_kwargs)\n",
    "toc = time.time()\n",
    "print('Elapsed time: {:.0f} sec'.format(toc - tic))\n",
    "print('Time ratio =', np.max(result['times'] / graph_data['graph_table']['free_flow_time']))\n",
    "print('Flow excess =', np.max(result['flows'] / graph_data['graph_table']['capacity']) - 1, end = '\\n\\n')\n",
    "\n",
    "result['elapsed_time'] = toc - tic\n",
    "with open(beckmann_save + 'anaheim_result_' + 'wda_noncomposite' + '_max_iter_' + str(max_iter) + '_beckmann.pickle', 'wb') as f:\n",
    "    pickle.dump(result, f)"
   ]
  },
  {
   "cell_type": "markdown",
   "metadata": {},
   "source": [
    "## Plots"
   ]
  },
  {
   "cell_type": "code",
   "execution_count": 15,
   "metadata": {},
   "outputs": [],
   "source": [
    "%matplotlib inline\n",
    "from matplotlib import pyplot as plt\n",
    "import pickle\n",
    "import numpy as np\n",
    "beckmann_save = 'beckmann_results/'"
   ]
  },
  {
   "cell_type": "code",
   "execution_count": 30,
   "metadata": {},
   "outputs": [],
   "source": [
    "results = {}\n",
    "\n",
    "for method in ['ustm', 'ugd']:\n",
    "    results[method] = {}\n",
    "    results[method]['iters'] = []\n",
    "    results[method]['inner_iters'] = []\n",
    "    results[method]['epsilon'] = []\n",
    "    results[method]['dual_gap_init'] = []\n",
    "    i = 0\n",
    "    while True:\n",
    "        try:\n",
    "            with open(beckmann_save + 'anaheim_result_' + method + '_eps_abs_'\n",
    "                      + str(i) + '_beckmann.pickle', 'rb') as f:\n",
    "                result = pickle.load(f)\n",
    "                results[method]['epsilon'].append(result['eps_abs'])\n",
    "                results[method]['iters'].append(result['iter_num'])\n",
    "                results[method]['inner_iters'].append(result['history'].get('inner_iters')[-1])\n",
    "                results[method]['dual_gap_init'].append(result['history'].get('dual_gap')[0])\n",
    "        except FileNotFoundError:\n",
    "            break\n",
    "        i += 1\n"
   ]
  },
  {
   "cell_type": "code",
   "execution_count": 31,
   "metadata": {},
   "outputs": [],
   "source": [
    "for method in ['wda', 'wda_noncomposite']:\n",
    "    results[method] = {}\n",
    "    with open(beckmann_save + 'anaheim_result_' + method + '_max_iter_40000_beckmann.pickle', 'rb') as f:\n",
    "        result = pickle.load(f)\n",
    "        results[method]['epsilon'] = result['history'].get('dual_gap')\n",
    "        results[method]['iters'] = result['history'].get('iter')\n",
    "        results[method]['dual_gap_init'] = result['history'].get('dual_gap')[0]"
   ]
  },
  {
   "cell_type": "code",
   "execution_count": 32,
   "metadata": {},
   "outputs": [],
   "source": [
    "method = 'fwm'\n",
    "with open(beckmann_save + 'anaheim_result_fwm_t_weighted_max_iter_10000_beckmann.pickle', 'rb') as f:\n",
    "    results[method] = {}\n",
    "    result = pickle.load(f)\n",
    "    results[method]['epsilon'] = result['history'].get('dual_gap')\n",
    "    results[method]['iters'] = result['history'].get('iter')\n",
    "    results[method]['dual_gap_init'] = result['history'].get('dual_gap')[0]"
   ]
  },
  {
   "cell_type": "code",
   "execution_count": 33,
   "metadata": {},
   "outputs": [
    {
     "data": {
      "image/png": "[encoded data removed]",
      "text/plain": [
       "<Figure size 504x288 with 1 Axes>"
      ]
     },
     "metadata": {
      "needs_background": "light"
     },
     "output_type": "display_data"
    }
   ],
   "source": [
    "plt.figure(figsize=(7,4))\n",
    "plt.title('Convergence for Beckmann model', fontsize=20)\n",
    "eps_upper = 1e4\n",
    "for method, data in results.items():\n",
    "    x = 1. / np.array(data['epsilon'])\n",
    "    y = np.array(data['iters'])\n",
    "    ind = np.nonzero(1 / x <= eps_upper)\n",
    "    plt.plot(x[ind], y[ind], label = method)\n",
    "plt.legend(title = 'method')\n",
    "plt.xscale('log')\n",
    "plt.yscale('log')\n",
    "plt.xlabel(r'1 / $\\varepsilon$')\n",
    "plt.ylabel('iterations')\n",
    "plt.show()"
   ]
  },
  {
   "cell_type": "code",
   "execution_count": 34,
   "metadata": {},
   "outputs": [
    {
     "data": {
      "image/png": "[encoded data removed]",
      "text/plain": [
       "<Figure size 504x288 with 1 Axes>"
      ]
     },
     "metadata": {
      "needs_background": "light"
     },
     "output_type": "display_data"
    }
   ],
   "source": [
    "#inner iterations vs absolute accuracy = eps_abs\n",
    "plt.figure(figsize=(7,4))\n",
    "#plt.title('Convergence for Beckmann model', fontsize=20)\n",
    "eps_upper = 1e4\n",
    "for method, data in results.items():\n",
    "    x = 1. / np.array(data['epsilon'])\n",
    "    if 'inner_iters' in data:\n",
    "        y = np.array(data['inner_iters'])\n",
    "    else:\n",
    "        y = np.array(data['iters'])\n",
    "    ind = np.nonzero(1 / x <= eps_upper)\n",
    "    plt.plot(x[ind], y[ind], label = method)\n",
    "plt.legend(prop = {'size' : 11})\n",
    "plt.xscale('log')\n",
    "plt.yscale('log')\n",
    "plt.xlabel(r'1 / $\\varepsilon$', fontsize = 14)\n",
    "plt.ylabel('inner iterations', fontsize = 14)\n",
    "#plt.savefig('beckmann_convergence.jpg', dpi = 300)\n",
    "plt.show()"
   ]
  },
  {
   "cell_type": "code",
   "execution_count": 40,
   "metadata": {},
   "outputs": [
    {
     "data": {
      "image/png": "[encoded data removed]",
      "text/plain": [
       "<Figure size 504x288 with 1 Axes>"
      ]
     },
     "metadata": {
      "needs_background": "light"
     },
     "output_type": "display_data"
    }
   ],
   "source": [
    "#inner iterations vs relative accuracy = eps_abs / dual_gap_init\n",
    "plt.figure(figsize=(7,4))\n",
    "#plt.title('Convergence for Beckmann model', fontsize=20)\n",
    "eps_upper = 0.5\n",
    "\n",
    "method_names = {'ustm' : 'UMST', 'ugd' : 'UGM', 'wda' : 'WDA',\n",
    "                'wda_noncomposite' : 'non-composite WDA', 'fwm' : 'FWM'}\n",
    "for method, data in results.items():\n",
    "    x = 1. / (np.array(data['epsilon']) / np.array(data['dual_gap_init']))\n",
    "    if 'inner_iters' in data:\n",
    "        y = np.array(data['inner_iters'])\n",
    "    else:\n",
    "        y = np.array(data['iters'])\n",
    "    ind = np.nonzero(1 / x <= eps_upper)\n",
    "    plt.plot(x[ind], y[ind], label = method_names[method])\n",
    "plt.legend(prop = {'size' : 11})\n",
    "plt.xscale('log')\n",
    "plt.yscale('log')\n",
    "plt.xlabel(r'1 / $\\tilde\\varepsilon$', fontsize = 14)\n",
    "plt.ylabel('inner iterations', fontsize = 14)\n",
    "#plt.savefig('beckmann_convergence_rel_eps.jpg', dpi = 300)\n",
    "plt.show()"
   ]
  }
 ],
 "metadata": {
  "hide_input": false,
  "kernelspec": {
   "display_name": "Python 3",
   "language": "python",
   "name": "python3"
  },
  "language_info": {
   "codemirror_mode": {
    "name": "ipython",
    "version": 3
   },
   "file_extension": ".py",
   "mimetype": "text/x-python",
   "name": "python",
   "nbconvert_exporter": "python",
   "pygments_lexer": "ipython3",
   "version": "3.7.6"
  },
  "toc": {
   "base_numbering": 1,
   "nav_menu": {},
   "number_sections": true,
   "sideBar": true,
   "skip_h1_title": false,
   "title_cell": "Table of Contents",
   "title_sidebar": "Contents",
   "toc_cell": false,
   "toc_position": {},
   "toc_section_display": true,
   "toc_window_display": false
  }
 },
 "nbformat": 4,
 "nbformat_minor": 2
}
