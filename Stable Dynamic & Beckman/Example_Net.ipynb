{
 "cells": [
  {
   "cell_type": "markdown",
   "metadata": {},
   "source": [
    "# Simple Example: Stable Dynamics Moldel and Beckmann Model"
   ]
  },
  {
   "cell_type": "code",
   "execution_count": 1,
   "metadata": {},
   "outputs": [],
   "source": [
    "import pandas as pd\n",
    "import numpy as np\n",
    "import data_handler as dh\n",
    "import model as md\n",
    "import time\n",
    "import matplotlib.pyplot as plt\n",
    "from matplotlib import rc\n",
    "import pickle"
   ]
  },
  {
   "cell_type": "code",
   "execution_count": 2,
   "metadata": {},
   "outputs": [
    {
     "data": {
      "text/plain": [
       "'0.51.0'"
      ]
     },
     "execution_count": 2,
     "metadata": {},
     "output_type": "execute_result"
    }
   ],
   "source": [
    "import numba\n",
    "numba.__version__"
   ]
  },
  {
   "cell_type": "code",
   "execution_count": 3,
   "metadata": {},
   "outputs": [],
   "source": [
    "sd_save = beckmann_save = './'\n",
    "cities_data = 'cities_data/'\n",
    "net_name = cities_data + 'Example_net.tntp'\n",
    "trips_name = cities_data + 'Example_trips.tntp'"
   ]
  },
  {
   "cell_type": "markdown",
   "metadata": {},
   "source": [
    "![title](github_example_pic.png)"
   ]
  },
  {
   "cell_type": "markdown",
   "metadata": {},
   "source": [
    "- You can find the example's description at the following link:\n",
    "\n",
    "https://doi.org/10.3390/math9111217\n",
    "\n",
    "- There were more cases discussed in the following paper:\n",
    "\n",
    "Nesterov, Y., de Palma, A. Stationary Dynamic Solutions in Congested Transportation Networks: Summary and Perspectives. Networks and Spatial Economics 3, 371–395 (2003). https://doi.org/10.1023/A:1025350419398"
   ]
  },
  {
   "cell_type": "markdown",
   "metadata": {},
   "source": [
    "# Beckmann model"
   ]
  },
  {
   "cell_type": "code",
   "execution_count": 4,
   "metadata": {},
   "outputs": [
    {
     "data": {
      "text/html": [
       "<div>\n",
       "<style scoped>\n",
       "    .dataframe tbody tr th:only-of-type {\n",
       "        vertical-align: middle;\n",
       "    }\n",
       "\n",
       "    .dataframe tbody tr th {\n",
       "        vertical-align: top;\n",
       "    }\n",
       "\n",
       "    .dataframe thead th {\n",
       "        text-align: right;\n",
       "    }\n",
       "</style>\n",
       "<table border=\"1\" class=\"dataframe\">\n",
       "  <thead>\n",
       "    <tr style=\"text-align: right;\">\n",
       "      <th></th>\n",
       "      <th>init_node</th>\n",
       "      <th>init_node_thru</th>\n",
       "      <th>term_node</th>\n",
       "      <th>term_node_thru</th>\n",
       "      <th>capacity</th>\n",
       "      <th>free_flow_time</th>\n",
       "    </tr>\n",
       "  </thead>\n",
       "  <tbody>\n",
       "    <tr>\n",
       "      <th>0</th>\n",
       "      <td>1</td>\n",
       "      <td>True</td>\n",
       "      <td>2</td>\n",
       "      <td>True</td>\n",
       "      <td>2000.0</td>\n",
       "      <td>1.0</td>\n",
       "    </tr>\n",
       "    <tr>\n",
       "      <th>1</th>\n",
       "      <td>1</td>\n",
       "      <td>True</td>\n",
       "      <td>2</td>\n",
       "      <td>True</td>\n",
       "      <td>2000.0</td>\n",
       "      <td>0.5</td>\n",
       "    </tr>\n",
       "    <tr>\n",
       "      <th>2</th>\n",
       "      <td>2</td>\n",
       "      <td>True</td>\n",
       "      <td>1</td>\n",
       "      <td>True</td>\n",
       "      <td>2000.0</td>\n",
       "      <td>0.5</td>\n",
       "    </tr>\n",
       "    <tr>\n",
       "      <th>3</th>\n",
       "      <td>2</td>\n",
       "      <td>True</td>\n",
       "      <td>1</td>\n",
       "      <td>True</td>\n",
       "      <td>2000.0</td>\n",
       "      <td>1.0</td>\n",
       "    </tr>\n",
       "  </tbody>\n",
       "</table>\n",
       "</div>"
      ],
      "text/plain": [
       "   init_node  init_node_thru  term_node  term_node_thru  capacity  \\\n",
       "0          1            True          2            True    2000.0   \n",
       "1          1            True          2            True    2000.0   \n",
       "2          2            True          1            True    2000.0   \n",
       "3          2            True          1            True    2000.0   \n",
       "\n",
       "   free_flow_time  \n",
       "0             1.0  \n",
       "1             0.5  \n",
       "2             0.5  \n",
       "3             1.0  "
      ]
     },
     "execution_count": 4,
     "metadata": {},
     "output_type": "execute_result"
    }
   ],
   "source": [
    "handler = dh.DataHandler()\n",
    "graph_data = handler.GetGraphData(net_name, columns = ['init_node', 'term_node', 'capacity', 'free_flow_time'])\n",
    "graph_correspondences, total_od_flow = handler.GetGraphCorrespondences(trips_name)\n",
    "\n",
    "model = md.Model(graph_data, graph_correspondences, \n",
    "                    total_od_flow, mu = 0.25, rho = 0.15)\n",
    "\n",
    "graph_data['graph_table'].head()"
   ]
  },
  {
   "cell_type": "code",
   "execution_count": 5,
   "metadata": {},
   "outputs": [
    {
     "data": {
      "text/plain": [
       "{1: {'targets': [1, 2], 'corrs': [0.0, 2000.0]},\n",
       " 2: {'targets': [2, 1], 'corrs': [0.0, 3000.0]}}"
      ]
     },
     "execution_count": 5,
     "metadata": {},
     "output_type": "execute_result"
    }
   ],
   "source": [
    "graph_correspondences"
   ]
  },
  {
   "cell_type": "markdown",
   "metadata": {},
   "source": [
    "## Frank-Wolfe method"
   ]
  },
  {
   "cell_type": "code",
   "execution_count": 6,
   "metadata": {},
   "outputs": [
    {
     "name": "stdout",
     "output_type": "stream",
     "text": [
      "Frank-Wolfe without stopping criteria\n",
      "Oracles created...\n",
      "Frank-Wolfe method...\n",
      "Primal_init = 2757.81\n",
      "Dual_init = -2500\n",
      "Duality_gap_init = 257.812\n",
      "\n",
      "Iterations number: 200\n",
      "Primal_func_value = 2757.81\n",
      "Dual_func_value = -2757.81\n",
      "Duality_gap = 0\n",
      "Duality_gap / Duality_gap_init = 0\n",
      "\n",
      "Iterations number: 400\n",
      "Primal_func_value = 2757.81\n",
      "Dual_func_value = -2757.81\n",
      "Duality_gap = 3.18323e-12\n",
      "Duality_gap / Duality_gap_init = 1.23471e-14\n",
      "\n",
      "Iterations number: 600\n",
      "Primal_func_value = 2757.81\n",
      "Dual_func_value = -2757.81\n",
      "Duality_gap = 3.18323e-12\n",
      "Duality_gap / Duality_gap_init = 1.23471e-14\n",
      "\n",
      "Iterations number: 800\n",
      "Primal_func_value = 2757.81\n",
      "Dual_func_value = -2757.81\n",
      "Duality_gap = -1.36424e-12\n",
      "Duality_gap / Duality_gap_init = -5.29161e-15\n",
      "\n",
      "Iterations number: 1000\n",
      "Primal_func_value = 2757.81\n",
      "Dual_func_value = -2757.81\n",
      "Duality_gap = -4.54747e-13\n",
      "Duality_gap / Duality_gap_init = -1.76387e-15\n",
      "\n",
      "Result: success\n",
      "Total iters: 1000\n",
      "Primal_func_value = 2757.81\n",
      "Dual_func_value = -2757.81\n",
      "Duality_gap = -4.54747e-13\n",
      "Duality_gap / Duality_gap_init = -1.76387e-15\n",
      "Oracle elapsed time: 7 sec\n",
      "Elapsed time: 8 sec\n",
      "Time ratio = 1.7593749999999995\n",
      "Flow excess = 0.4999999999999998\n",
      "\n"
     ]
    }
   ],
   "source": [
    "assert(model.mu == 0.25)\n",
    "max_iter = 1000\n",
    "\n",
    "print('Frank-Wolfe without stopping criteria')\n",
    "solver_kwargs = {'max_iter' : max_iter, 'stop_crit': 'max_iter',\n",
    "                 'verbose' : True, 'verbose_step': 200, 'save_history' : True}\n",
    "tic = time.time()\n",
    "result = model.find_equilibrium(solver_name = 'fwm', solver_kwargs = solver_kwargs)\n",
    "toc = time.time()\n",
    "print('Elapsed time: {:.0f} sec'.format(toc - tic))\n",
    "print('Time ratio =', np.max(result['times'] / graph_data['graph_table']['free_flow_time']))\n",
    "print('Flow excess =', np.max(result['flows'] / graph_data['graph_table']['capacity']) - 1, end = '\\n\\n')"
   ]
  },
  {
   "cell_type": "code",
   "execution_count": 7,
   "metadata": {},
   "outputs": [
    {
     "name": "stdout",
     "output_type": "stream",
     "text": [
      "times: [1.        0.575     0.8796875 1.       ]\n",
      "flows: [  -0. 2000. 3000.   -0.]\n"
     ]
    }
   ],
   "source": [
    "print(\"times:\", result['times'])\n",
    "print(\"flows:\", result['flows'])"
   ]
  },
  {
   "cell_type": "markdown",
   "metadata": {},
   "source": [
    "# Stable Dynamics Model\n",
    "\n",
    "parameter $\\mu = 0$"
   ]
  },
  {
   "cell_type": "code",
   "execution_count": 8,
   "metadata": {},
   "outputs": [
    {
     "data": {
      "text/html": [
       "<div>\n",
       "<style scoped>\n",
       "    .dataframe tbody tr th:only-of-type {\n",
       "        vertical-align: middle;\n",
       "    }\n",
       "\n",
       "    .dataframe tbody tr th {\n",
       "        vertical-align: top;\n",
       "    }\n",
       "\n",
       "    .dataframe thead th {\n",
       "        text-align: right;\n",
       "    }\n",
       "</style>\n",
       "<table border=\"1\" class=\"dataframe\">\n",
       "  <thead>\n",
       "    <tr style=\"text-align: right;\">\n",
       "      <th></th>\n",
       "      <th>init_node</th>\n",
       "      <th>init_node_thru</th>\n",
       "      <th>term_node</th>\n",
       "      <th>term_node_thru</th>\n",
       "      <th>capacity</th>\n",
       "      <th>free_flow_time</th>\n",
       "    </tr>\n",
       "  </thead>\n",
       "  <tbody>\n",
       "    <tr>\n",
       "      <th>0</th>\n",
       "      <td>1</td>\n",
       "      <td>True</td>\n",
       "      <td>2</td>\n",
       "      <td>True</td>\n",
       "      <td>2000.0</td>\n",
       "      <td>1.0</td>\n",
       "    </tr>\n",
       "    <tr>\n",
       "      <th>1</th>\n",
       "      <td>1</td>\n",
       "      <td>True</td>\n",
       "      <td>2</td>\n",
       "      <td>True</td>\n",
       "      <td>2000.0</td>\n",
       "      <td>0.5</td>\n",
       "    </tr>\n",
       "    <tr>\n",
       "      <th>2</th>\n",
       "      <td>2</td>\n",
       "      <td>True</td>\n",
       "      <td>1</td>\n",
       "      <td>True</td>\n",
       "      <td>2000.0</td>\n",
       "      <td>0.5</td>\n",
       "    </tr>\n",
       "    <tr>\n",
       "      <th>3</th>\n",
       "      <td>2</td>\n",
       "      <td>True</td>\n",
       "      <td>1</td>\n",
       "      <td>True</td>\n",
       "      <td>2000.0</td>\n",
       "      <td>1.0</td>\n",
       "    </tr>\n",
       "  </tbody>\n",
       "</table>\n",
       "</div>"
      ],
      "text/plain": [
       "   init_node  init_node_thru  term_node  term_node_thru  capacity  \\\n",
       "0          1            True          2            True    2000.0   \n",
       "1          1            True          2            True    2000.0   \n",
       "2          2            True          1            True    2000.0   \n",
       "3          2            True          1            True    2000.0   \n",
       "\n",
       "   free_flow_time  \n",
       "0             1.0  \n",
       "1             0.5  \n",
       "2             0.5  \n",
       "3             1.0  "
      ]
     },
     "execution_count": 8,
     "metadata": {},
     "output_type": "execute_result"
    }
   ],
   "source": [
    "handler = dh.DataHandler()\n",
    "graph_correspondences, total_od_flow = handler.GetGraphCorrespondences(trips_name)\n",
    "graph_data = handler.GetGraphData(net_name, columns = ['init_node', 'term_node', 'capacity', 'free_flow_time'])\n",
    "init_capacities = np.copy(graph_data['graph_table']['capacity'])\n",
    "graph_data['graph_table'].head()"
   ]
  },
  {
   "cell_type": "code",
   "execution_count": 9,
   "metadata": {},
   "outputs": [
    {
     "data": {
      "text/plain": [
       "{1: {'targets': [1, 2], 'corrs': [0.0, 2000.0]},\n",
       " 2: {'targets': [2, 1], 'corrs': [0.0, 3000.0]}}"
      ]
     },
     "execution_count": 9,
     "metadata": {},
     "output_type": "execute_result"
    }
   ],
   "source": [
    "graph_correspondences"
   ]
  },
  {
   "cell_type": "markdown",
   "metadata": {},
   "source": [
    "## Step 1: Base flows\n",
    "First of all, we should find admissible set of flows on the transport graph. It is required for defining duality gap."
   ]
  },
  {
   "cell_type": "code",
   "execution_count": 10,
   "metadata": {},
   "outputs": [],
   "source": [
    "import numba"
   ]
  },
  {
   "cell_type": "code",
   "execution_count": 21,
   "metadata": {},
   "outputs": [
    {
     "data": {
      "text/html": [
       "<div>\n",
       "<style scoped>\n",
       "    .dataframe tbody tr th:only-of-type {\n",
       "        vertical-align: middle;\n",
       "    }\n",
       "\n",
       "    .dataframe tbody tr th {\n",
       "        vertical-align: top;\n",
       "    }\n",
       "\n",
       "    .dataframe thead th {\n",
       "        text-align: right;\n",
       "    }\n",
       "</style>\n",
       "<table border=\"1\" class=\"dataframe\">\n",
       "  <thead>\n",
       "    <tr style=\"text-align: right;\">\n",
       "      <th></th>\n",
       "      <th>init_node</th>\n",
       "      <th>init_node_thru</th>\n",
       "      <th>term_node</th>\n",
       "      <th>term_node_thru</th>\n",
       "      <th>capacity</th>\n",
       "      <th>free_flow_time</th>\n",
       "    </tr>\n",
       "  </thead>\n",
       "  <tbody>\n",
       "    <tr>\n",
       "      <th>0</th>\n",
       "      <td>1</td>\n",
       "      <td>True</td>\n",
       "      <td>2</td>\n",
       "      <td>True</td>\n",
       "      <td>1500.0</td>\n",
       "      <td>1.0</td>\n",
       "    </tr>\n",
       "    <tr>\n",
       "      <th>1</th>\n",
       "      <td>1</td>\n",
       "      <td>True</td>\n",
       "      <td>2</td>\n",
       "      <td>True</td>\n",
       "      <td>1500.0</td>\n",
       "      <td>0.5</td>\n",
       "    </tr>\n",
       "    <tr>\n",
       "      <th>2</th>\n",
       "      <td>2</td>\n",
       "      <td>True</td>\n",
       "      <td>1</td>\n",
       "      <td>True</td>\n",
       "      <td>1500.0</td>\n",
       "      <td>0.5</td>\n",
       "    </tr>\n",
       "    <tr>\n",
       "      <th>3</th>\n",
       "      <td>2</td>\n",
       "      <td>True</td>\n",
       "      <td>1</td>\n",
       "      <td>True</td>\n",
       "      <td>1500.0</td>\n",
       "      <td>1.0</td>\n",
       "    </tr>\n",
       "  </tbody>\n",
       "</table>\n",
       "</div>"
      ],
      "text/plain": [
       "   init_node  init_node_thru  term_node  term_node_thru  capacity  \\\n",
       "0          1            True          2            True    1500.0   \n",
       "1          1            True          2            True    1500.0   \n",
       "2          2            True          1            True    1500.0   \n",
       "3          2            True          1            True    1500.0   \n",
       "\n",
       "   free_flow_time  \n",
       "0             1.0  \n",
       "1             0.5  \n",
       "2             0.5  \n",
       "3             1.0  "
      ]
     },
     "execution_count": 21,
     "metadata": {},
     "output_type": "execute_result"
    }
   ],
   "source": [
    "# start from 0.5,  0.75, 0.875 (according to our flows reconstruction method) \n",
    "alpha = 0.75\n",
    "graph_data['graph_table']['capacity'] = init_capacities * alpha\n",
    "model = md.Model(graph_data, graph_correspondences,\n",
    "                 total_od_flow, mu = 0)\n",
    "\n",
    "graph_data['graph_table'].head()"
   ]
  },
  {
   "cell_type": "code",
   "execution_count": 22,
   "metadata": {
    "scrolled": true
   },
   "outputs": [
    {
     "name": "stdout",
     "output_type": "stream",
     "text": [
      "Composite optimization...\n",
      "Oracles created...\n",
      "Universal similar triangles method...\n",
      "Primal_init = 2500\n",
      "Dual_init = -2500\n",
      "Duality_gap_init = 700\n",
      "\n",
      "Iterations number: 500\n",
      "Inner iterations number: 1011\n",
      "Primal_func_value = 3479.76\n",
      "Dual_func_value = -3499.96\n",
      "Duality_gap = -25.8347\n",
      "Duality_gap / Duality_gap_init = -0.0369067\n",
      "\n",
      "Iterations number: 1000\n",
      "Inner iterations number: 2011\n",
      "Primal_func_value = 3488.97\n",
      "Dual_func_value = -3499.92\n",
      "Duality_gap = -14.2657\n",
      "Duality_gap / Duality_gap_init = -0.0203795\n",
      "\n",
      "Result: success\n",
      "Total iters: 1000\n",
      "Primal_func_value = 3488.97\n",
      "Dual_func_value = -3499.92\n",
      "Duality_gap = -14.2657\n",
      "Duality_gap / Duality_gap_init = -0.0203795\n",
      "Oracle elapsed time: 9 sec\n",
      "Elapsed time: 10 sec\n",
      "Time ratio = 2.0000443910173455\n",
      "Flow excess = 0.0075024949182886935\n",
      "\n"
     ]
    }
   ],
   "source": [
    "assert(model.mu == 0)\n",
    "max_iter = 1000\n",
    "\n",
    "solver_kwargs = {'eps_abs': 100, 'max_iter': max_iter, 'stop_crit': 'max_iter',\n",
    "                 'verbose': True, 'verbose_step': 500, 'save_history': True}\n",
    "tic = time.time()\n",
    "result = model.find_equilibrium(solver_name = 'ustm', composite = True,\n",
    "                                solver_kwargs = solver_kwargs,\n",
    "                                base_flows = alpha * graph_data['graph_table']['capacity'])\n",
    "                                #base_flows here doesn't define anything now\n",
    "toc = time.time()\n",
    "print('Elapsed time: {:.0f} sec'.format(toc - tic))\n",
    "print('Time ratio =', np.max(result['times'] / graph_data['graph_table']['free_flow_time']))\n",
    "print('Flow excess =', np.max(result['flows'] / graph_data['graph_table']['capacity']) - 1, end = '\\n\\n')\n",
    "\n",
    "result['elapsed_time'] = toc - tic\n",
    "\n",
    "base_flows = result['flows']"
   ]
  },
  {
   "cell_type": "markdown",
   "metadata": {},
   "source": [
    "__Base flows found numerically should be nonnegative and meet capacity constraints.__\n",
    "\n",
    "__During these iterations, duality gap metric is irrelevant.__ On the next step (\"SD Model solution\"), duality gap -- based on the found base flows -- will be nonnegative and decrease as the algorithm approaches the problem's solution."
   ]
  },
  {
   "cell_type": "code",
   "execution_count": 23,
   "metadata": {},
   "outputs": [
    {
     "name": "stdout",
     "output_type": "stream",
     "text": [
      "base flows: [ 489.1953825  1510.8046175  1511.25374238 1488.74625762]\n",
      "base times: [1.         0.99989837 1.0000222  1.        ]\n"
     ]
    }
   ],
   "source": [
    "print(\"base flows:\", result['flows'])\n",
    "print(\"base times:\", result['times'])"
   ]
  },
  {
   "cell_type": "code",
   "execution_count": 14,
   "metadata": {},
   "outputs": [],
   "source": [
    "#with open(sd_save + 'anaheim_' + 'ustm' + '_base_flows_max_iter_' + str(max_iter) + '_SD.pickle', 'wb') as f:\n",
    "#    pickle.dump(base_flows, f)"
   ]
  },
  {
   "cell_type": "markdown",
   "metadata": {},
   "source": [
    "## Step 2: SD Model solution"
   ]
  },
  {
   "cell_type": "code",
   "execution_count": 24,
   "metadata": {},
   "outputs": [
    {
     "data": {
      "text/html": [
       "<div>\n",
       "<style scoped>\n",
       "    .dataframe tbody tr th:only-of-type {\n",
       "        vertical-align: middle;\n",
       "    }\n",
       "\n",
       "    .dataframe tbody tr th {\n",
       "        vertical-align: top;\n",
       "    }\n",
       "\n",
       "    .dataframe thead th {\n",
       "        text-align: right;\n",
       "    }\n",
       "</style>\n",
       "<table border=\"1\" class=\"dataframe\">\n",
       "  <thead>\n",
       "    <tr style=\"text-align: right;\">\n",
       "      <th></th>\n",
       "      <th>init_node</th>\n",
       "      <th>init_node_thru</th>\n",
       "      <th>term_node</th>\n",
       "      <th>term_node_thru</th>\n",
       "      <th>capacity</th>\n",
       "      <th>free_flow_time</th>\n",
       "    </tr>\n",
       "  </thead>\n",
       "  <tbody>\n",
       "    <tr>\n",
       "      <th>0</th>\n",
       "      <td>1</td>\n",
       "      <td>True</td>\n",
       "      <td>2</td>\n",
       "      <td>True</td>\n",
       "      <td>2000.0</td>\n",
       "      <td>1.0</td>\n",
       "    </tr>\n",
       "    <tr>\n",
       "      <th>1</th>\n",
       "      <td>1</td>\n",
       "      <td>True</td>\n",
       "      <td>2</td>\n",
       "      <td>True</td>\n",
       "      <td>2000.0</td>\n",
       "      <td>0.5</td>\n",
       "    </tr>\n",
       "    <tr>\n",
       "      <th>2</th>\n",
       "      <td>2</td>\n",
       "      <td>True</td>\n",
       "      <td>1</td>\n",
       "      <td>True</td>\n",
       "      <td>2000.0</td>\n",
       "      <td>0.5</td>\n",
       "    </tr>\n",
       "    <tr>\n",
       "      <th>3</th>\n",
       "      <td>2</td>\n",
       "      <td>True</td>\n",
       "      <td>1</td>\n",
       "      <td>True</td>\n",
       "      <td>2000.0</td>\n",
       "      <td>1.0</td>\n",
       "    </tr>\n",
       "  </tbody>\n",
       "</table>\n",
       "</div>"
      ],
      "text/plain": [
       "   init_node  init_node_thru  term_node  term_node_thru  capacity  \\\n",
       "0          1            True          2            True    2000.0   \n",
       "1          1            True          2            True    2000.0   \n",
       "2          2            True          1            True    2000.0   \n",
       "3          2            True          1            True    2000.0   \n",
       "\n",
       "   free_flow_time  \n",
       "0             1.0  \n",
       "1             0.5  \n",
       "2             0.5  \n",
       "3             1.0  "
      ]
     },
     "execution_count": 24,
     "metadata": {},
     "output_type": "execute_result"
    }
   ],
   "source": [
    "graph_data['graph_table']['capacity'] = init_capacities\n",
    "model = md.Model(graph_data, graph_correspondences,\n",
    "                 total_od_flow, mu = 0)\n",
    "\n",
    "graph_data['graph_table'].head()"
   ]
  },
  {
   "cell_type": "markdown",
   "metadata": {},
   "source": [
    "## Universal Similar Triangles"
   ]
  },
  {
   "cell_type": "code",
   "execution_count": 25,
   "metadata": {
    "scrolled": true
   },
   "outputs": [
    {
     "name": "stdout",
     "output_type": "stream",
     "text": [
      "Composite optimization...\n",
      "Oracles created...\n",
      "Universal similar triangles method...\n",
      "Primal_init = 2500\n",
      "Dual_init = -2500\n",
      "Duality_gap_init = 664.298\n",
      "\n",
      "Iterations number: 400\n",
      "Inner iterations number: 810\n",
      "Primal_func_value = 2985.03\n",
      "Dual_func_value = -2999.95\n",
      "Duality_gap = 14.1678\n",
      "Duality_gap / Duality_gap_init = 0.0213275\n",
      "\n",
      "Iterations number: 800\n",
      "Inner iterations number: 1611\n",
      "Primal_func_value = 2993\n",
      "Dual_func_value = -2999.97\n",
      "Duality_gap = 6.84015\n",
      "Duality_gap / Duality_gap_init = 0.0102968\n",
      "\n",
      "Result: success\n",
      "Total iters: 1000\n",
      "Primal_func_value = 2993.68\n",
      "Dual_func_value = -3000\n",
      "Duality_gap = 6.16647\n",
      "Duality_gap / Duality_gap_init = 0.00928268\n",
      "Oracle elapsed time: 10 sec\n",
      "Elapsed time: 11 sec\n",
      "Time ratio = 2.0000042745029365\n",
      "Flow excess = 0.006315644518835706\n",
      "\n"
     ]
    }
   ],
   "source": [
    "assert(model.mu == 0)\n",
    "max_iter = 1000\n",
    "\n",
    "solver_kwargs = {'eps_abs': 100,\n",
    "                 'max_iter': max_iter, 'stop_crit': 'max_iter',\n",
    "                 'verbose': True, 'verbose_step': 400, 'save_history': True}\n",
    "tic = time.time()\n",
    "result = model.find_equilibrium(solver_name = 'ustm', composite = True,\n",
    "                                solver_kwargs = solver_kwargs, base_flows = base_flows)\n",
    "toc = time.time()\n",
    "print('Elapsed time: {:.0f} sec'.format(toc - tic))\n",
    "print('Time ratio =', np.max(result['times'] / graph_data['graph_table']['free_flow_time']))\n",
    "print('Flow excess =', np.max(result['flows'] / graph_data['graph_table']['capacity']) - 1, end = '\\n\\n')\n",
    "# NOTE: duality gap should be nonnegative here!"
   ]
  },
  {
   "cell_type": "code",
   "execution_count": 26,
   "metadata": {},
   "outputs": [
    {
     "name": "stdout",
     "output_type": "stream",
     "text": [
      "flows: [  -0.         2000.         2012.63128904  987.36871096]\n",
      "times:  [1.         0.5        1.00000214 1.        ]\n"
     ]
    }
   ],
   "source": [
    "print(\"flows:\", result['flows'])\n",
    "print(\"times: \", result['times'])"
   ]
  }
 ],
 "metadata": {
  "hide_input": false,
  "kernelspec": {
   "display_name": "Python 3",
   "language": "python",
   "name": "python3"
  },
  "language_info": {
   "codemirror_mode": {
    "name": "ipython",
    "version": 3
   },
   "file_extension": ".py",
   "mimetype": "text/x-python",
   "name": "python",
   "nbconvert_exporter": "python",
   "pygments_lexer": "ipython3",
   "version": "3.7.6"
  },
  "toc": {
   "base_numbering": 1,
   "nav_menu": {},
   "number_sections": true,
   "sideBar": true,
   "skip_h1_title": false,
   "title_cell": "Table of Contents",
   "title_sidebar": "Contents",
   "toc_cell": false,
   "toc_position": {},
   "toc_section_display": true,
   "toc_window_display": false
  }
 },
 "nbformat": 4,
 "nbformat_minor": 2
}
